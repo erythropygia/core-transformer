{
 "cells": [
  {
   "cell_type": "markdown",
   "metadata": {
    "id": "ZcvKeBXoZFOY"
   },
   "source": [
    "### Full finished code, for reference\n",
    "\n",
    "You may want to refer directly to the git repo instead though."
   ]
  },
  {
   "cell_type": "code",
   "execution_count": 6,
   "metadata": {},
   "outputs": [
    {
     "name": "stdout",
     "output_type": "stream",
     "text": [
      "cpu\n"
     ]
    }
   ],
   "source": [
    "import torch\n",
    "import torch.nn as nn\n",
    "from torch.nn import functional as F\n",
    "device = 'cuda' if torch.cuda.is_available() else 'cpu'\n",
    "print(device)"
   ]
  },
  {
   "cell_type": "code",
   "execution_count": null,
   "metadata": {
    "executionInfo": {
     "elapsed": 13,
     "status": "ok",
     "timestamp": 1749639824310,
     "user": {
      "displayName": "Mehmet Yıldırım",
      "userId": "11102203696313851448"
     },
     "user_tz": -180
    },
    "id": "O-wyzPgsK-40"
   },
   "outputs": [],
   "source": [
    "\n",
    "# hyperparameters\n",
    "batch_size = 64 # how many independent sequences will we process in parallel?\n",
    "block_size = 256 # what is the maximum context length for predictions?\n",
    "max_iters = 5000\n",
    "eval_interval = 500\n",
    "learning_rate = 3e-4\n",
    "\n",
    "grad_clip = 1.0\n",
    "best_val_loss = float('inf')\n",
    "patience_counter = 0\n",
    "patience = 5\n",
    "\n",
    "eval_iters = 200\n",
    "n_embd = 384\n",
    "n_head = 6\n",
    "n_layer = 6\n",
    "dropout = 0.3\n",
    "# ------------"
   ]
  },
  {
   "cell_type": "code",
   "execution_count": 5,
   "metadata": {
    "executionInfo": {
     "elapsed": 15,
     "status": "ok",
     "timestamp": 1749637467548,
     "user": {
      "displayName": "Mehmet Yıldırım",
      "userId": "11102203696313851448"
     },
     "user_tz": -180
    },
    "id": "BRd6stqMLBbb"
   },
   "outputs": [],
   "source": [
    "torch.manual_seed(1337)\n",
    "\n",
    "with open('kinyas_kayra_clean.txt', 'r', encoding='utf-8') as f:\n",
    "    text = f.read()"
   ]
  },
  {
   "cell_type": "code",
   "execution_count": 49,
   "metadata": {
    "colab": {
     "base_uri": "https://localhost:8080/"
    },
    "executionInfo": {
     "elapsed": 1078394,
     "status": "ok",
     "timestamp": 1749638561545,
     "user": {
      "displayName": "Mehmet Yıldırım",
      "userId": "11102203696313851448"
     },
     "user_tz": -180
    },
    "id": "vX1dxQw8Or2f",
    "outputId": "d2c923c5-48c3-4690-8511-32d7f906ae2c"
   },
   "outputs": [
    {
     "name": "stdout",
     "output_type": "stream",
     "text": [
      "Merge 1: ('196', '177')\n",
      "Merge 101: ('197159', '101')\n",
      "Merge 201: ('105', '104')\n",
      "Merge 301: ('075', '105110121097')\n",
      "Merge 401: ('097114', '107')\n",
      "Merge 501: ('116', '097114097')\n",
      "Merge 601: ('108097', '121097')\n",
      "Merge 701: ('111108109097', '108196177')\n",
      "Merge 801: ('196176', '107105')\n",
      "Merge 901: ('105110', '099105')\n",
      "Merge 1001: ('097110', '110101')\n",
      "Merge 1101: ('107097114', '196177')\n",
      "Merge 1201: ('103', '195188108')\n",
      "Merge 1301: ('117196159', '114097')\n",
      "Merge 1401: ('107097', '102')\n",
      "Merge 1501: ('100097110', '046')\n",
      "Merge 1601: ('112', '105122')\n",
      "Merge 1701: ('098097', '122196177')\n",
      "Merge 1801: ('076', '111')\n",
      "Merge 1901: ('197159', '097110')\n",
      "Merge 2001: ('097', '105116')\n",
      "Merge 2101: ('098101110122101', '121101110')\n",
      "Merge 2201: ('101116', '116105109')\n",
      "Merge 2301: ('116105', '116114101')\n",
      "Merge 2401: ('100195188110121097', '121097')\n",
      "Merge 2501: ('111108117114', '100117')\n",
      "Merge 2601: ('107097114197159196177', '108196177196159196177110100097')\n",
      "Merge 2701: ('107097108196177', '114')\n",
      "Merge 2801: ('100117114117109', '100097')\n",
      "Merge 2901: ('115097', '116196177')\n",
      "Merge 3001: ('100117', '109044')\n",
      "Merge 3101: ('103101114101107105114', '100105046')\n",
      "Merge 3201: ('107097', '115')\n",
      "Merge 3301: ('118', '111108')\n",
      "Merge 3401: ('118101114115105', '116101')\n",
      "Merge 3501: ('083097', '195167')\n",
      "Merge 3601: ('109097', '116105107')\n",
      "Merge 3701: ('098101107', '108101114')\n",
      "Merge 3801: ('080', '111108')\n",
      "Merge 3901: ('098101107108101', '109101107')\n",
      "Merge 4001: ('105195167', '101114')\n",
      "Merge 4101: ('104097102196177', '122097109')\n",
      "Merge 4201: ('066', '111197159')\n",
      "Merge 4301: ('100117', '197159')\n",
      "Merge 4401: ('117110117', '116097')\n",
      "Merge 4501: ('109097107121097', '106')\n",
      "Merge 4601: ('068111107', '116111114')\n",
      "Merge 4701: ('109097', '109196177197159116196177046')\n",
      "Merge 4801: ('121101114', '100101044')\n",
      "Merge 4901: ('084195188114', '107105')\n",
      "Merge 5001: ('108101114', '105109100101')\n",
      "Merge 5101: ('107097112196177', '100097110')\n",
      "Merge 5201: ('108097114', '107101110')\n",
      "Merge 5301: ('111108109097', '115196177110196177110')\n",
      "Merge 5401: ('195135196177', '107')\n",
      "Merge 5501: ('097115', '121111110')\n",
      "Merge 5601: ('072', '097107108196177')\n",
      "Merge 5701: ('101116', '109101110')\n",
      "Merge 5801: ('069108', '108101114105110105')\n",
      "Merge 5901: ('085109', '097114196177109')\n",
      "Merge 6001: ('116195188107', '046')\n",
      "Merge 6101: ('100111115', '116117')\n",
      "Merge 6201: ('107097121110097107', '108097110196177121111114100117046')\n",
      "Merge 6301: ('116097', '115196177')\n",
      "Merge 6401: ('065121', '110')\n",
      "Merge 6501: ('109097115196177', '121108097')\n",
      "Merge 6601: ('098097197159', '097114097')\n",
      "Merge 6701: ('104097121097116', '108097114196177')\n",
      "Merge 6801: ('085121107117', '115117122')\n",
      "Merge 6901: ('115', '105110121097')\n",
      "Merge 7001: ('121111108', '108097109097107')\n",
      "Merge 7101: ('111121110', '097114')\n",
      "Merge 7201: ('100117118097114', '196177110097')\n",
      "Merge 7301: ('109195188122105196159', '105')\n",
      "Merge 7401: ('107097108', '109097121097')\n",
      "Merge 7501: ('098105108109101', '109101107')\n",
      "Merge 7601: ('089097114', '100196177109')\n",
      "Merge 7701: ('100101196159105197159', '109105197159116105046')\n",
      "Merge 7801: ('086101114', '100105196159105')\n",
      "Merge 7901: ('103195182196159115', '195188109101')\n",
      "Merge 8000: ('103105114', '109101115105')\n",
      "Encoded: [635]\n",
      "Decoded: Kinyas\n"
     ]
    }
   ],
   "source": [
    "import torch\n",
    "from collections import Counter\n",
    "\n",
    "class ByteLevelBPE:\n",
    "    def __init__(self, text, num_merges=500):\n",
    "        self.text = text\n",
    "        self.num_merges = num_merges\n",
    "        self.vocab = None\n",
    "        self.merges = []\n",
    "        self.token_to_id = {}\n",
    "        self.id_to_token = {}\n",
    "        self._learn_bpe()\n",
    "        self._build_token_vocab()\n",
    "\n",
    "    def _get_vocab(self):\n",
    "        vocab = Counter()\n",
    "        words = self.text.strip().split()\n",
    "\n",
    "        for word in words:\n",
    "            word_bytes = list(word.encode('utf-8'))\n",
    "            word_bytes_str = [f\"{b:03d}\" for b in word_bytes]\n",
    "            tokenized = ' '.join(word_bytes_str + ['</w>'])\n",
    "            vocab[tokenized] += 1\n",
    "\n",
    "        return vocab\n",
    "\n",
    "    def _get_stats(self, vocab):\n",
    "        pairs = Counter()\n",
    "        for word, freq in vocab.items():\n",
    "            symbols = word.split()\n",
    "            for i in range(len(symbols) - 1):\n",
    "                if symbols[i+1] == '</w>':\n",
    "                    continue\n",
    "                pairs[(symbols[i], symbols[i+1])] += freq\n",
    "        return pairs\n",
    "\n",
    "    def _merge_vocab(self, pair, vocab_in):\n",
    "        vocab_out = {}\n",
    "        replacement = pair[0] + pair[1]\n",
    "\n",
    "        for word, freq in vocab_in.items():\n",
    "            symbols = word.split()\n",
    "            new_symbols = []\n",
    "            i = 0\n",
    "\n",
    "            while i < len(symbols):\n",
    "                if i < len(symbols) - 1 and (symbols[i], symbols[i+1]) == pair:\n",
    "                    new_symbols.append(replacement)\n",
    "                    i += 2\n",
    "                else:\n",
    "                    new_symbols.append(symbols[i])\n",
    "                    i += 1\n",
    "\n",
    "            new_word = ' '.join(new_symbols)\n",
    "            vocab_out[new_word] = freq\n",
    "\n",
    "        return vocab_out\n",
    "\n",
    "    def _learn_bpe(self):\n",
    "        self.vocab = self._get_vocab()\n",
    "        for i in range(self.num_merges):\n",
    "            pairs = self._get_stats(self.vocab)\n",
    "            if not pairs:\n",
    "                break\n",
    "            best = max(pairs, key=pairs.get)\n",
    "            self.vocab = self._merge_vocab(best, self.vocab)\n",
    "            self.merges.append(best)\n",
    "            if i % 100 == 0 or i == self.num_merges - 1:\n",
    "                print(f\"Merge {i+1}: {best}\")\n",
    "\n",
    "        self.merges_set = set(self.merges)\n",
    "\n",
    "    def _build_token_vocab(self):\n",
    "        # BPE tokenları: başlangıçta tüm byte kodları + merged tokenlar\n",
    "        tokens = set()\n",
    "        # Tüm kelimeler\n",
    "        for word in self.vocab.keys():\n",
    "            for token in word.split():\n",
    "                tokens.add(token)\n",
    "        # Ayrıca merge'lerle oluşan tokenlar\n",
    "        for a,b in self.merges:\n",
    "            tokens.add(a+b)\n",
    "        tokens.discard('</w>')  # </w> genelde tokenize edilmez veya farklı işlenir\n",
    "        tokens = sorted(list(tokens))\n",
    "        self.token_to_id = {tok: idx for idx, tok in enumerate(tokens)}\n",
    "        self.id_to_token = {idx: tok for tok, idx in self.token_to_id.items()}\n",
    "\n",
    "    def encode(self, word):\n",
    "        word_bytes = [f\"{b:03d}\" for b in word.encode('utf-8')] + ['</w>']\n",
    "\n",
    "        while True:\n",
    "            pairs = [(word_bytes[i], word_bytes[i+1]) for i in range(len(word_bytes)-1)]\n",
    "            mergeable = [p for p in pairs if p in self.merges]\n",
    "\n",
    "            if not mergeable:\n",
    "                break\n",
    "\n",
    "            best = None\n",
    "            for merge in self.merges:\n",
    "                if merge in pairs:\n",
    "                    best = merge\n",
    "                    break\n",
    "\n",
    "            if best is None:\n",
    "                break\n",
    "\n",
    "            new_word = []\n",
    "            i = 0\n",
    "            while i < len(word_bytes):\n",
    "                if i < len(word_bytes) - 1 and (word_bytes[i], word_bytes[i+1]) == best:\n",
    "                    new_word.append(word_bytes[i] + word_bytes[i+1])\n",
    "                    i += 2\n",
    "                else:\n",
    "                    new_word.append(word_bytes[i])\n",
    "                    i += 1\n",
    "\n",
    "            word_bytes = new_word\n",
    "\n",
    "        encoded_ids = []\n",
    "        for token in word_bytes:\n",
    "            if token == '</w>':\n",
    "                continue\n",
    "            encoded_ids.append(self.token_to_id[token])\n",
    "        return encoded_ids\n",
    "\n",
    "    def decode(self, token_ids):\n",
    "        tokens = [self.id_to_token[id_] for id_ in token_ids]\n",
    "        byte_sequence = []\n",
    "        for token in tokens:\n",
    "            for i in range(0, len(token), 3):\n",
    "                byte_sequence.append(int(token[i:i+3]))\n",
    "        return bytes(byte_sequence).decode('utf-8', errors='replace')\n",
    "\n",
    "bpe = ByteLevelBPE(text, num_merges=4000)\n",
    "\n",
    "word = \"Kinyas\"\n",
    "encoded = bpe.encode(word)\n",
    "print(\"Encoded:\", encoded)\n",
    "\n",
    "decoded = bpe.decode(encoded)\n",
    "print(\"Decoded:\", decoded)\n",
    "\n",
    "\n",
    "\n",
    "# here are all the unique characters that occur in this text\n",
    "#chars = sorted(list(set(text)))\n",
    "#vocab_size = len(chars)\n",
    "# create a mapping from characters to integers\n",
    "#stoi = { ch:i for i,ch in enumerate(chars) }\n",
    "#itos = { i:ch for i,ch in enumerate(chars) }\n",
    "#encode = lambda s: [stoi[c] for c in s] # encoder: take a string, output a list of integers\n",
    "#decode = lambda l: ''.join([itos[i] for i in l]) # decoder: take a list of integers, output a string"
   ]
  },
  {
   "cell_type": "code",
   "execution_count": 61,
   "metadata": {
    "colab": {
     "base_uri": "https://localhost:8080/"
    },
    "executionInfo": {
     "elapsed": 1255381,
     "status": "ok",
     "timestamp": 1749641238803,
     "user": {
      "displayName": "Mehmet Yıldırım",
      "userId": "11102203696313851448"
     },
     "user_tz": -180
    },
    "id": "R0Les052W0UR",
    "outputId": "f57ca121-89da-4e1e-f1aa-0c3671831796"
   },
   "outputs": [
    {
     "name": "stdout",
     "output_type": "stream",
     "text": [
      "Total token: 213475\n",
      "Train data size: 192127\n",
      "Val data size: 21348\n"
     ]
    }
   ],
   "source": [
    "def encode_text_with_bpe_ids(bpe_obj, text):\n",
    "    tokens = []\n",
    "    for word in text.strip().split():\n",
    "        tokens.extend(bpe_obj.encode(word))\n",
    "    return tokens\n",
    "\n",
    "tokens = encode_text_with_bpe_ids(bpe, text)\n",
    "data = torch.tensor(tokens, dtype=torch.long)\n",
    "\n",
    "n = int(0.9 * len(data))\n",
    "train_data = data[:n]\n",
    "val_data = data[n:]\n",
    "\n",
    "print(f\"Total token: {len(data)}\")\n",
    "print(f\"Train data size: {len(train_data)}\")\n",
    "print(f\"Val data size: {len(val_data)}\")\n",
    "\n",
    "# Train and test splits\n",
    "#data = torch.tensor(encode(text), dtype=torch.long)\n",
    "#n = int(0.9*len(data)) # first 90% will be train, rest val\n",
    "#train_data = data[:n]\n",
    "#val_data = data[n:]"
   ]
  },
  {
   "cell_type": "code",
   "execution_count": 71,
   "metadata": {
    "executionInfo": {
     "elapsed": 49,
     "status": "ok",
     "timestamp": 1749642394519,
     "user": {
      "displayName": "Mehmet Yıldırım",
      "userId": "11102203696313851448"
     },
     "user_tz": -180
    },
    "id": "TLhTmjxnLEco"
   },
   "outputs": [],
   "source": [
    "# data loading\n",
    "def get_batch(split):\n",
    "    data_split = train_data if split == 'train' else val_data\n",
    "    ix = torch.randint(len(data_split) - block_size, (batch_size,))\n",
    "    x = torch.stack([data_split[i:i+block_size] for i in ix])\n",
    "    y = torch.stack([data_split[i+1:i+block_size+1] for i in ix])\n",
    "    return x.to(device), y.to(device)"
   ]
  },
  {
   "cell_type": "code",
   "execution_count": 72,
   "metadata": {
    "executionInfo": {
     "elapsed": 4,
     "status": "ok",
     "timestamp": 1749642397145,
     "user": {
      "displayName": "Mehmet Yıldırım",
      "userId": "11102203696313851448"
     },
     "user_tz": -180
    },
    "id": "xsw2pAgALFgS"
   },
   "outputs": [],
   "source": [
    "@torch.no_grad()\n",
    "def estimate_loss():\n",
    "    out = {}\n",
    "    model.eval()\n",
    "    for split in ['train', 'val']:\n",
    "        losses = torch.zeros(eval_iters)\n",
    "        for k in range(eval_iters):\n",
    "            X, Y = get_batch(split)\n",
    "            logits, loss = model(X, Y)\n",
    "            losses[k] = loss.item()\n",
    "        out[split] = losses.mean()\n",
    "    model.train()\n",
    "    return out"
   ]
  },
  {
   "cell_type": "code",
   "execution_count": 73,
   "metadata": {
    "executionInfo": {
     "elapsed": 3,
     "status": "ok",
     "timestamp": 1749642398317,
     "user": {
      "displayName": "Mehmet Yıldırım",
      "userId": "11102203696313851448"
     },
     "user_tz": -180
    },
    "id": "j9c7A4D3LHLF"
   },
   "outputs": [],
   "source": [
    "class Head(nn.Module):\n",
    "    \"\"\" one head of self-attention \"\"\"\n",
    "\n",
    "    def __init__(self, head_size):\n",
    "        super().__init__()\n",
    "        self.key = nn.Linear(n_embd, head_size, bias=False)\n",
    "        self.query = nn.Linear(n_embd, head_size, bias=False)\n",
    "        self.value = nn.Linear(n_embd, head_size, bias=False)\n",
    "        self.register_buffer('tril', torch.tril(torch.ones(block_size, block_size)))\n",
    "\n",
    "        self.dropout = nn.Dropout(dropout)\n",
    "\n",
    "    def forward(self, x):\n",
    "        B,T,C = x.shape\n",
    "        k = self.key(x)   # (B,T,C)\n",
    "        q = self.query(x) # (B,T,C)\n",
    "        # compute attention scores (\"affinities\")\n",
    "        wei = q @ k.transpose(-2,-1) * C**-0.5 # (B, T, C) @ (B, C, T) -> (B, T, T)\n",
    "        wei = wei.masked_fill(self.tril[:T, :T] == 0, float('-inf')) # (B, T, T)\n",
    "        wei = F.softmax(wei, dim=-1) # (B, T, T)\n",
    "        wei = self.dropout(wei)\n",
    "        # perform the weighted aggregation of the values\n",
    "        v = self.value(x) # (B,T,C)\n",
    "        out = wei @ v # (B, T, T) @ (B, T, C) -> (B, T, C)\n",
    "        return out"
   ]
  },
  {
   "cell_type": "code",
   "execution_count": 74,
   "metadata": {
    "executionInfo": {
     "elapsed": 3,
     "status": "ok",
     "timestamp": 1749642399521,
     "user": {
      "displayName": "Mehmet Yıldırım",
      "userId": "11102203696313851448"
     },
     "user_tz": -180
    },
    "id": "nrGYKFB8LI3p"
   },
   "outputs": [],
   "source": [
    "class MultiHeadAttention(nn.Module):\n",
    "    \"\"\" multiple heads of self-attention in parallel \"\"\"\n",
    "\n",
    "    def __init__(self, num_heads, head_size):\n",
    "        super().__init__()\n",
    "        self.heads = nn.ModuleList([Head(head_size) for _ in range(num_heads)])\n",
    "        self.proj = nn.Linear(n_embd, n_embd)\n",
    "        self.dropout = nn.Dropout(dropout)\n",
    "\n",
    "    def forward(self, x):\n",
    "        out = torch.cat([h(x) for h in self.heads], dim=-1)\n",
    "        out = self.dropout(self.proj(out))\n",
    "        return out"
   ]
  },
  {
   "cell_type": "code",
   "execution_count": 75,
   "metadata": {
    "executionInfo": {
     "elapsed": 3,
     "status": "ok",
     "timestamp": 1749642400568,
     "user": {
      "displayName": "Mehmet Yıldırım",
      "userId": "11102203696313851448"
     },
     "user_tz": -180
    },
    "id": "gbflotPaLKLs"
   },
   "outputs": [],
   "source": [
    "class FeedFoward(nn.Module):\n",
    "    \"\"\" a simple linear layer followed by a non-linearity \"\"\"\n",
    "\n",
    "    def __init__(self, n_embd):\n",
    "        super().__init__()\n",
    "        self.net = nn.Sequential(\n",
    "            nn.Linear(n_embd, 4 * n_embd),\n",
    "            nn.ReLU(),\n",
    "            nn.Linear(4 * n_embd, n_embd),\n",
    "            nn.Dropout(dropout),\n",
    "        )\n",
    "\n",
    "    def forward(self, x):\n",
    "        return self.net(x)"
   ]
  },
  {
   "cell_type": "code",
   "execution_count": 76,
   "metadata": {
    "executionInfo": {
     "elapsed": 2,
     "status": "ok",
     "timestamp": 1749642401840,
     "user": {
      "displayName": "Mehmet Yıldırım",
      "userId": "11102203696313851448"
     },
     "user_tz": -180
    },
    "id": "6EoQ-B-pLLbI"
   },
   "outputs": [],
   "source": [
    "class Block(nn.Module):\n",
    "    \"\"\" Transformer block: communication followed by computation \"\"\"\n",
    "\n",
    "    def __init__(self, n_embd, n_head):\n",
    "        # n_embd: embedding dimension, n_head: the number of heads we'd like\n",
    "        super().__init__()\n",
    "        head_size = n_embd // n_head\n",
    "        self.sa = MultiHeadAttention(n_head, head_size)\n",
    "        self.ffwd = FeedFoward(n_embd)\n",
    "        self.ln1 = nn.LayerNorm(n_embd)\n",
    "        self.ln2 = nn.LayerNorm(n_embd)\n",
    "\n",
    "    def forward(self, x):\n",
    "        x = x + self.sa(self.ln1(x))\n",
    "        x = x + self.ffwd(self.ln2(x))\n",
    "        return x\n"
   ]
  },
  {
   "cell_type": "code",
   "execution_count": 77,
   "metadata": {
    "executionInfo": {
     "elapsed": 18,
     "status": "ok",
     "timestamp": 1749642403088,
     "user": {
      "displayName": "Mehmet Yıldırım",
      "userId": "11102203696313851448"
     },
     "user_tz": -180
    },
    "id": "_V5Li4w_LNhx"
   },
   "outputs": [],
   "source": [
    "# super simple bigram model\n",
    "class BigramLanguageModel(nn.Module):\n",
    "\n",
    "    def __init__(self):\n",
    "        super().__init__()\n",
    "        # each token directly reads off the logits for the next token from a lookup table\n",
    "        self.token_embedding_table = nn.Embedding(vocab_size, n_embd)\n",
    "        self.position_embedding_table = nn.Embedding(block_size, n_embd)\n",
    "        self.blocks = nn.Sequential(*[Block(n_embd, n_head=n_head) for _ in range(n_layer)])\n",
    "        self.ln_f = nn.LayerNorm(n_embd) # final layer norm\n",
    "        self.lm_head = nn.Linear(n_embd, vocab_size)\n",
    "\n",
    "    def forward(self, idx, targets=None):\n",
    "        B, T = idx.shape\n",
    "\n",
    "        # idx and targets are both (B,T) tensor of integers\n",
    "        tok_emb = self.token_embedding_table(idx) # (B,T,C)\n",
    "        pos_emb = self.position_embedding_table(torch.arange(T, device=device)) # (T,C)\n",
    "        x = tok_emb + pos_emb # (B,T,C)\n",
    "        x = self.blocks(x) # (B,T,C)\n",
    "        x = self.ln_f(x) # (B,T,C)\n",
    "        logits = self.lm_head(x) # (B,T,vocab_size)\n",
    "\n",
    "        if targets is None:\n",
    "            loss = None\n",
    "        else:\n",
    "            B, T, C = logits.shape\n",
    "            logits = logits.view(B*T, C)\n",
    "            targets = targets.view(B*T)\n",
    "            loss = F.cross_entropy(logits, targets)\n",
    "\n",
    "        return logits, loss\n",
    "\n",
    "    def generate(self, idx, max_new_tokens, temperature=1.0, top_k=None):\n",
    "        for _ in range(max_new_tokens):\n",
    "            idx_cond = idx[:, -block_size:]\n",
    "            logits, _ = self(idx_cond)\n",
    "            logits = logits[:, -1, :]  # (B, vocab_size)\n",
    "\n",
    "            logits = logits / temperature\n",
    "\n",
    "            if top_k is not None:\n",
    "                v, _ = torch.topk(logits, top_k)\n",
    "                min_v = v[:, -1].unsqueeze(1)\n",
    "                logits = torch.where(logits < min_v, torch.full_like(logits, -float('Inf')), logits)\n",
    "\n",
    "            probs = F.softmax(logits, dim=-1)\n",
    "            idx_next = torch.multinomial(probs, num_samples=1)\n",
    "            idx = torch.cat((idx, idx_next), dim=1)\n",
    "        return idx"
   ]
  },
  {
   "cell_type": "code",
   "execution_count": 78,
   "metadata": {
    "colab": {
     "base_uri": "https://localhost:8080/"
    },
    "executionInfo": {
     "elapsed": 5,
     "status": "ok",
     "timestamp": 1749642405237,
     "user": {
      "displayName": "Mehmet Yıldırım",
      "userId": "11102203696313851448"
     },
     "user_tz": -180
    },
    "id": "03xzxp-QZ3Nm",
    "outputId": "c746a857-74b5-4234-9ab8-6d2363f41d44"
   },
   "outputs": [
    {
     "data": {
      "text/plain": [
       "8071"
      ]
     },
     "execution_count": 78,
     "metadata": {},
     "output_type": "execute_result"
    }
   ],
   "source": [
    "vocab_size = len(bpe.token_to_id)\n",
    "vocab_size"
   ]
  },
  {
   "cell_type": "code",
   "execution_count": 79,
   "metadata": {
    "colab": {
     "base_uri": "https://localhost:8080/"
    },
    "executionInfo": {
     "elapsed": 202,
     "status": "ok",
     "timestamp": 1749642407293,
     "user": {
      "displayName": "Mehmet Yıldırım",
      "userId": "11102203696313851448"
     },
     "user_tz": -180
    },
    "id": "hoelkOrFY8bN",
    "outputId": "4a347330-c096-4e6a-b09b-90b6e3b2fddc"
   },
   "outputs": [
    {
     "name": "stdout",
     "output_type": "stream",
     "text": [
      "16.945543 M parameters\n"
     ]
    }
   ],
   "source": [
    "model = BigramLanguageModel()\n",
    "m = model.to(device)\n",
    "# print the number of parameters in the model\n",
    "print(sum(p.numel() for p in m.parameters())/1e6, 'M parameters')\n",
    "\n",
    "# create a PyTorch optimizer\n",
    "optimizer = torch.optim.AdamW(model.parameters(), lr=learning_rate, weight_decay=1e-2)"
   ]
  },
  {
   "cell_type": "code",
   "execution_count": null,
   "metadata": {
    "colab": {
     "base_uri": "https://localhost:8080/"
    },
    "id": "PTvQXsPFh05H",
    "outputId": "aca584a3-8d01-4e45-89a4-3177fcea87f2"
   },
   "outputs": [
    {
     "name": "stdout",
     "output_type": "stream",
     "text": [
      "Step 0: Train 9.1643, Val 9.1696, LR 0.000000\n",
      "✨ Best model saved.\n",
      "Step 500: Train 4.3856, Val 7.1656, LR 0.001000\n",
      "✨ Best model saved.\n",
      "Step 1000: Train 1.3357, Val 9.2076, LR 0.000970\n"
     ]
    }
   ],
   "source": [
    "import torch\n",
    "import math\n",
    "from torch.utils.tensorboard import SummaryWriter\n",
    "\n",
    "writer = SummaryWriter(log_dir=\"runs/bpe_transformer\")\n",
    "\n",
    "def get_lr(it, warmup_iters=500, max_lr=1e-3, total_iters=5000):\n",
    "    if it < warmup_iters:\n",
    "        return max_lr * it / warmup_iters\n",
    "    elif it > total_iters:\n",
    "        return 0.0\n",
    "    else:\n",
    "        decay_ratio = (it - warmup_iters) / (total_iters - warmup_iters)\n",
    "        return max_lr * 0.5 * (1.0 + math.cos(math.pi * decay_ratio))\n",
    "\n",
    "for iter in range(max_iters):\n",
    "    # Learning rate scheduler\n",
    "    lr = get_lr(iter)\n",
    "    for g in optimizer.param_groups:\n",
    "        g['lr'] = lr\n",
    "\n",
    "    # Değerlendirme ve log\n",
    "    if iter % eval_interval == 0 or iter == max_iters - 1:\n",
    "        losses = estimate_loss()\n",
    "        train_loss = losses['train']\n",
    "        val_loss = losses['val']\n",
    "\n",
    "        print(f\"Step {iter}: Train {train_loss:.4f}, Val {val_loss:.4f}, LR {lr:.6f}\")\n",
    "        writer.add_scalar(\"Loss/train\", train_loss, iter)\n",
    "        writer.add_scalar(\"Loss/val\", val_loss, iter)\n",
    "        writer.add_scalar(\"Learning Rate\", lr, iter)\n",
    "\n",
    "        if val_loss < best_val_loss:\n",
    "            best_val_loss = val_loss\n",
    "            patience_counter = 0\n",
    "            torch.save(model.state_dict(), 'best_model.pt')\n",
    "            print(\"✨ Best model saved.\")\n",
    "        else:\n",
    "            patience_counter += 1\n",
    "            if patience_counter >= patience:\n",
    "                print(\"🛑 Early stopping.\")\n",
    "                break\n",
    "\n",
    "    # Eğitim adımı\n",
    "    xb, yb = get_batch('train')\n",
    "    logits, loss = model(xb, yb)\n",
    "    optimizer.zero_grad()\n",
    "    loss.backward()\n",
    "    torch.nn.utils.clip_grad_norm_(model.parameters(), max_norm=1.0)\n",
    "    optimizer.step()\n",
    "\n",
    "\n",
    "#for iter in range(max_iters):\n",
    "\n",
    "    # every once in a while evaluate the loss on train and val sets\n",
    "#    if iter % eval_interval == 0 or iter == max_iters - 1:\n",
    "#        losses = estimate_loss()\n",
    "#        print(f\"step {iter}: train loss {losses['train']:.4f}, val loss {losses['val']:.4f}\")\n",
    "\n",
    "    # sample a batch of data\n",
    "#    xb, yb = get_batch('train')\n",
    "\n",
    "    # evaluate the loss\n",
    "#    logits, loss = model(xb, yb)\n",
    "#    optimizer.zero_grad(set_to_none=True)\n",
    "#    loss.backward()\n",
    "#    optimizer.step()\n"
   ]
  },
  {
   "cell_type": "code",
   "execution_count": null,
   "metadata": {
    "id": "fjjvMifYZf7x"
   },
   "outputs": [],
   "source": [
    "prompt = \"Kinyas ve\"\n",
    "prompt_tokens = []\n",
    "for w in prompt.strip().split():\n",
    "    prompt_tokens.extend(bpe.encode(w))\n",
    "context = torch.tensor(prompt_tokens, dtype=torch.long, device=device).unsqueeze(0)\n",
    "\n",
    "generated_ids = model.generate(context, max_new_tokens=50, temperature=0.7, top_k=50)[0].tolist()\n",
    "print(\"Generated text:\")\n",
    "print(bpe.decode(generated_ids))\n",
    "\n",
    "# generate from the model\n",
    "#context = torch.zeros((1, 1), dtype=torch.long, device=device)\n",
    "#print(decode(m.generate(context, max_new_tokens=2000)[0].tolist()))"
   ]
  }
 ],
 "metadata": {
  "accelerator": "GPU",
  "colab": {
   "gpuType": "T4",
   "provenance": []
  },
  "kernelspec": {
   "display_name": "Python 3",
   "name": "python3"
  },
  "language_info": {
   "codemirror_mode": {
    "name": "ipython",
    "version": 3
   },
   "file_extension": ".py",
   "mimetype": "text/x-python",
   "name": "python",
   "nbconvert_exporter": "python",
   "pygments_lexer": "ipython3",
   "version": "3.11.5"
  }
 },
 "nbformat": 4,
 "nbformat_minor": 0
}
